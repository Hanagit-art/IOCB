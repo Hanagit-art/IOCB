{
 "cells": [
  {
   "cell_type": "code",
   "execution_count": null,
   "metadata": {},
   "outputs": [
    {
     "ename": "",
     "evalue": "",
     "output_type": "error",
     "traceback": [
      "\u001b[1;31mRunning cells with 'Python 3.7.3 64-bit' requires ipykernel package.\n",
      "\u001b[1;31mRun the following command to install 'ipykernel' into the Python environment. \n",
      "\u001b[1;31mCommand: '/bin/python3 -m pip install ipykernel -U --user --force-reinstall'"
     ]
    }
   ],
   "source": [
    "import pandas as pd\n",
    "import matplotlib.pyplot as plt\n",
    "import xml.etree.ElementTree as ET\n",
    "\n",
    "def load_post(filenames):\n",
    "    # Create an empty list to store data\n",
    "    data = []\n",
    "\n",
    "    # Iterate through the XML files\n",
    "    for filename in filenames:\n",
    "        # Parse the XML file\n",
    "        tree = ET.parse(filename)\n",
    "        root = tree.getroot()\n",
    "\n",
    "        # Extract data from XML and append to the list\n",
    "        for child in root:\n",
    "            row = {}\n",
    "            for subchild in child:\n",
    "                row[subchild.tag] = subchild.text\n",
    "            row['filename'] = 'map_1' if filename == filenames[0] else 'map_2'  # Assign filename to map_1 or map_2\n",
    "            data.append(row)\n",
    "\n",
    "    # Convert the list of dictionaries to a Pandas DataFrame\n",
    "    df = pd.DataFrame(data)\n",
    "    \n",
    "    return df\n",
    "\n",
    "# Example usage\n",
    "filenames = ['postprocess_fsc_1.xml', 'postprocess_fsc_2.xml']  # Replace with your XML file names\n",
    "df = load_post(filenames)\n",
    "\n",
    "# Plotting two curves with specified colors\n",
    "fig, ax = plt.subplots()\n",
    "\n",
    "for filename, group_df in df.groupby('filename'):\n",
    "    ax.plot(group_df['x'].astype(float), group_df['y'].astype(float), label=filename)\n",
    "\n",
    "# ax.plot(df[df['filename'] == 'map_1']['x'].astype(float), \n",
    "#         df[df['filename'] == 'map_1']['y'].astype(float), \n",
    "#         label='map_1', color='darkblue')\n",
    "\n",
    "# ax.plot(df[df['filename'] == 'map_2']['x'].astype(float), \n",
    "#         df[df['filename'] == 'map_2']['y'].astype(float), \n",
    "#         label='map_2', color='green')\n",
    "\n",
    "# Plot the FSC line\n",
    "fsc_line = ax.axhline(0.143, color=\"black\", linestyle=\":\", label='FSC of 0.143')\n",
    "\n",
    "# Annotation for the FSC line\n",
    "ax.text(1.02, 0.143, '0.143', va='center', ha='left', color='black', transform=ax.get_yaxis_transform())\n",
    "\n",
    "# Plot the Nyquist frequency\n",
    "Nyq_line = ax.axvline(0.357, color=\"black\", linestyle=\":\")\n",
    "\n",
    "# Annotation for the Nyquist frequency line\n",
    "ax.text(0.357, 1.1, 'Nyquist frequency\\nof extracted particles\\nat 2.8 Å', va='bottom', ha='center', color='black')\n",
    "\n",
    "\n",
    "# Axis labels\n",
    "ax.set_xlabel('Resolution [1/Å]')\n",
    "ax.set_ylabel('FSC')\n",
    "\n",
    "# Hide right and top spines\n",
    "ax.spines['right'].set_visible(False)\n",
    "ax.spines['top'].set_visible(False)\n",
    "\n",
    "# Legend placement\n",
    "ax.legend(loc='center left', bbox_to_anchor=(1.0, 1.0))\n",
    "\n",
    "plt.show()"
   ]
  }
 ],
 "metadata": {
  "kernelspec": {
   "display_name": "Python 3.7.3 64-bit",
   "language": "python",
   "name": "python3"
  },
  "language_info": {
   "codemirror_mode": {
    "name": "ipython",
    "version": 3
   },
   "file_extension": ".py",
   "mimetype": "text/x-python",
   "name": "python",
   "nbconvert_exporter": "python",
   "pygments_lexer": "ipython3",
   "version": "3.7.3"
  },
  "orig_nbformat": 4,
  "vscode": {
   "interpreter": {
    "hash": "916dbcbb3f70747c44a77c7bcd40155683ae19c65e1c03b4aa3499c5328201f1"
   }
  }
 },
 "nbformat": 4,
 "nbformat_minor": 2
}


import pandas as pd
import matplotlib.pyplot as plt
import xml.etree.ElementTree as ET

def load_post(filenames):
    # Create an empty list to store data
    data = []

    # Define filename mapping
    filename_map = {
        filenames[0]: 'TC - Ap3G (2.51Å)',
        filenames[1]: 'TC - Ap4G (2.53Å)',
        filenames[2]: 'TC - Ap4A (2.52Å)',
        filenames[3]: 'TC - GTP (2.76Å)',
        filenames[4]: 'aTT - Ap4A (2.91Å)'
    }

    # Iterate through the XML files
    for filename in filenames:
        # Parse the XML file
        tree = ET.parse(filename)
        root = tree.getroot()

        # Extract data from XML and append to the list
        for child in root:
            row = {}
            for subchild in child:
                row[subchild.tag] = subchild.text

            # Set filename based on the mapping
            row['filename'] = filename_map.get(filename, 'Default Value')
            data.append(row)

    # Convert the list of dictionaries to a Pandas DataFrame
    df = pd.DataFrame(data)
    return df

# Example usage
filenames = [
'caps_411_postprocess_fsc.xml', 
'caps_211_postprocess_fsc.xml', 
'caps_301_postprocess_fsc.xml', 
'caps_129_postprocess_fsc.xml', 
'caps_229_postprocess_fsc.xml' ] # Replace with your XML file names

df = load_post(filenames)

# Plotting two curves with specified colors
fig, ax = plt.subplots()

for filename, group_df in df.groupby('filename'):
    ax.plot(group_df['x'].astype(float), group_df['y'].astype(float), label=filename)

fsc_line = ax.axhline(0.143, color="black", linestyle=":", label='FSC of 0.143')

# Annotation for the FSC line
ax.text(1.02, 0.143, '0.143', va='center', ha='left', color='black', transform=ax.get_yaxis_transform())

# Plot the Nyquist frequency
# Nyq_line = ax.axvline(0.5988, color="black", linestyle=":")

# Annotation for the Nyquist frequency line
# ax.text(0.5988, 1.1, 'Nyquist frequency\nof extracted particles\nat 1.67 Å', va='bottom', ha='center', color='black')

# Axis labels
ax.set_xlabel('Resolution [1/Å]')
ax.set_ylabel('Fourier Shell Correlation')

# Hide right and top spines
ax.spines['right'].set_visible(False)
ax.spines['top'].set_visible(False)

# Legend placement
ax.legend(loc='center left', bbox_to_anchor=(0.7, 0.8))

# Save the figure as a high-quality JPEG image
plt.savefig("plot.jpg", format='jpg', dpi=300, quality=95)

plt.show()
