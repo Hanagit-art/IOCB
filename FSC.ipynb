{
 "cells": [
  {
   "cell_type": "code",
   "execution_count": null,
   "metadata": {},
   "outputs": [
    {
     "ename": "",
     "evalue": "",
     "output_type": "error",
     "traceback": [
      "\u001b[1;31mRunning cells with 'Python 3.7.3 64-bit' requires ipykernel package.\n",
      "\u001b[1;31mRun the following command to install 'ipykernel' into the Python environment. \n",
      "\u001b[1;31mCommand: '/bin/python3 -m pip install ipykernel -U --user --force-reinstall'"
     ]
    }
   ],
   "source": [
    "import pandas as pd\n",
    "import matplotlib.pyplot as plt\n",
    "import xml.etree.ElementTree as ET\n",
    "\n",
    "def load_post(filenames):\n",
    "    # Create an empty list to store data\n",
    "    data = []\n",
    "\n",
    "    # Iterate through the XML files\n",
    "    for filename in filenames:\n",
    "        # Parse the XML file\n",
    "        tree = ET.parse(filename)\n",
    "        root = tree.getroot()\n",
    "\n",
    "        # Extract data from XML and append to the list\n",
    "        for child in root:\n",
    "            row = {}\n",
    "            for subchild in child:\n",
    "                row[subchild.tag] = subchild.text\n",
    "            row['filename'] = 'map_1' if filename == filenames[0] else 'map_2'  # Assign filename to map_1 or map_2\n",
    "            data.append(row)\n",
    "\n",
    "    # Convert the list of dictionaries to a Pandas DataFrame\n",
    "    df = pd.DataFrame(data)\n",
    "    \n",
    "    return df\n",
    "\n",
    "# Example usage\n",
    "filenames = ['postprocess_fsc_1.xml', 'postprocess_fsc_2.xml']  # Replace with your XML file names\n",
    "df = load_post(filenames)\n",
    "\n",
    "# Plotting two curves with specified colors\n",
    "fig, ax = plt.subplots()\n",
    "\n",
    "for filename, group_df in df.groupby('filename'):\n",
    "    ax.plot(group_df['x'].astype(float), group_df['y'].astype(float), label=filename)\n",
    "\n",
    "# ax.plot(df[df['filename'] == 'map_1']['x'].astype(float), \n",
    "#         df[df['filename'] == 'map_1']['y'].astype(float), \n",
    "#         label='map_1', color='darkblue')\n",
    "\n",
    "# ax.plot(df[df['filename'] == 'map_2']['x'].astype(float), \n",
    "#         df[df['filename'] == 'map_2']['y'].astype(float), \n",
    "#         label='map_2', color='green')\n",
    "\n",
    "# Plot the FSC line\n",
    "fsc_line = ax.axhline(0.143, color=\"black\", linestyle=\":\", label='FSC of 0.143')\n",
    "\n",
    "# Annotation for the FSC line\n",
    "ax.text(1.02, 0.143, '0.143', va='center', ha='left', color='black', transform=ax.get_yaxis_transform())\n",
    "\n",
    "# Plot the Nyquist frequency\n",
    "Nyq_line = ax.axvline(0.357, color=\"black\", linestyle=\":\")\n",
    "\n",
    "# Annotation for the Nyquist frequency line\n",
    "ax.text(0.357, 1.1, 'Nyquist frequency\\nof extracted particles\\nat 2.8 Å', va='bottom', ha='center', color='black')\n",
    "\n",
    "\n",
    "# Axis labels\n",
    "ax.set_xlabel('Resolution [1/Å]')\n",
    "ax.set_ylabel('FSC')\n",
    "\n",
    "# Hide right and top spines\n",
    "ax.spines['right'].set_visible(False)\n",
    "ax.spines['top'].set_visible(False)\n",
    "\n",
    "# Legend placement\n",
    "ax.legend(loc='center left', bbox_to_anchor=(1.0, 1.0))\n",
    "\n",
    "plt.show()"
   ]
  }
 ],
 "metadata": {
  "kernelspec": {
   "display_name": "Python 3.7.3 64-bit",
   "language": "python",
   "name": "python3"
  },
  "language_info": {
   "codemirror_mode": {
    "name": "ipython",
    "version": 3
   },
   "file_extension": ".py",
   "mimetype": "text/x-python",
   "name": "python",
   "nbconvert_exporter": "python",
   "pygments_lexer": "ipython3",
   "version": "3.7.3"
  },
  "orig_nbformat": 4,
  "vscode": {
   "interpreter": {
    "hash": "916dbcbb3f70747c44a77c7bcd40155683ae19c65e1c03b4aa3499c5328201f1"
   }
  }
 },
 "nbformat": 4,
 "nbformat_minor": 2
}
